{
 "cells": [
  {
   "cell_type": "markdown",
   "metadata": {},
   "source": [
    "Import and Query SQLite Databases in Python"
   ]
  },
  {
   "cell_type": "code",
   "execution_count": 12,
   "metadata": {},
   "outputs": [],
   "source": [
    "#   import modules\n",
    "import sqlite3\n",
    "import pandas as pd\n",
    "import os\n",
    "import os.path"
   ]
  },
  {
   "cell_type": "code",
   "execution_count": 13,
   "metadata": {},
   "outputs": [
    {
     "data": {
      "text/plain": [
       "{'BoardGameGeek2020.db': 'C:\\\\Users\\\\samge\\\\Documents\\\\Programming\\\\SQL\\\\Databases\\\\BoardGameGeek',\n",
       " 'chinook.db': 'C:\\\\Users\\\\samge\\\\Documents\\\\Programming\\\\SQL\\\\Databases\\\\Chinook',\n",
       " 'northwind.db': 'C:\\\\Users\\\\samge\\\\Documents\\\\Programming\\\\SQL\\\\Databases\\\\Northwind',\n",
       " 'players.db': 'C:\\\\Users\\\\samge\\\\Documents\\\\Programming\\\\SQL\\\\Databases\\\\Project Zomboid Server',\n",
       " 'servertest.db': 'C:\\\\Users\\\\samge\\\\Documents\\\\Programming\\\\SQL\\\\Databases\\\\Project Zomboid Server'}"
      ]
     },
     "execution_count": 13,
     "metadata": {},
     "output_type": "execute_result"
    }
   ],
   "source": [
    "#   create variable for database files' parent directory\n",
    "db_root = r\"C:\\Users\\samge\\Documents\\Programming\\SQL\\Databases\"\n",
    "#   create an empty dictionary\n",
    "db_dict = {}\n",
    "#   create function to populalate the dictionary\n",
    "def create_db_dict():\n",
    "    #   walks the database files' children directories\n",
    "    for root, dir, files in os.walk(db_root):\n",
    "        for db in files:\n",
    "            #   if a file ends with \".db\"...\n",
    "            if db.endswith(\".db\"):\n",
    "                #   add the file name (key) and directory path (value) to the dictionary\n",
    "                db_dict[db] = root\n",
    "    return db_dict\n",
    "create_db_dict()\n",
    "db_dict"
   ]
  },
  {
   "cell_type": "code",
   "execution_count": 19,
   "metadata": {},
   "outputs": [
    {
     "name": "stdout",
     "output_type": "stream",
     "text": [
      "CONNECTION SUCCESSFUL\n"
     ]
    }
   ],
   "source": [
    "#   define function that will connect to SQL database file (.db)\n",
    "def connect_db(name):\n",
    "    #   \"name\" is concatenation of user input and \".db\"\n",
    "    name = str(name + \".db\")\n",
    "    #   variable created to reference correct working directory for database file acquired from database dictionary with user input\n",
    "    db_directory = str(db_dict[name])\n",
    "    #   change the directory to \"db_directory\" variable\n",
    "    os.chdir(db_directory)\n",
    "    #   define variable \"connection\" as global so it will be recognized when closing database connection later\n",
    "    global connection\n",
    "    #   if file indicated exists in the directory defined above...\n",
    "    if os.path.exists(name):\n",
    "        #   connect to database file and print \"CONNECTION SUCCESSFUL\"\n",
    "        connection = sqlite3.connect(name)\n",
    "        print(\"CONNECTION SUCCESSFUL\")\n",
    "    else:\n",
    "        print(\"CONNECTION FAILED\")\n",
    "connect_db(\"northwind\")"
   ]
  },
  {
   "cell_type": "code",
   "execution_count": 17,
   "metadata": {},
   "outputs": [
    {
     "name": "stdout",
     "output_type": "stream",
     "text": [
      "SELECT * FROM artists LIMIT 10\n"
     ]
    },
    {
     "data": {
      "text/html": [
       "<div>\n",
       "<style scoped>\n",
       "    .dataframe tbody tr th:only-of-type {\n",
       "        vertical-align: middle;\n",
       "    }\n",
       "\n",
       "    .dataframe tbody tr th {\n",
       "        vertical-align: top;\n",
       "    }\n",
       "\n",
       "    .dataframe thead th {\n",
       "        text-align: right;\n",
       "    }\n",
       "</style>\n",
       "<table border=\"1\" class=\"dataframe\">\n",
       "  <thead>\n",
       "    <tr style=\"text-align: right;\">\n",
       "      <th></th>\n",
       "      <th>ArtistId</th>\n",
       "      <th>Name</th>\n",
       "    </tr>\n",
       "  </thead>\n",
       "  <tbody>\n",
       "    <tr>\n",
       "      <th>0</th>\n",
       "      <td>1</td>\n",
       "      <td>AC/DC</td>\n",
       "    </tr>\n",
       "    <tr>\n",
       "      <th>1</th>\n",
       "      <td>2</td>\n",
       "      <td>Accept</td>\n",
       "    </tr>\n",
       "    <tr>\n",
       "      <th>2</th>\n",
       "      <td>3</td>\n",
       "      <td>Aerosmith</td>\n",
       "    </tr>\n",
       "    <tr>\n",
       "      <th>3</th>\n",
       "      <td>4</td>\n",
       "      <td>Alanis Morissette</td>\n",
       "    </tr>\n",
       "    <tr>\n",
       "      <th>4</th>\n",
       "      <td>5</td>\n",
       "      <td>Alice In Chains</td>\n",
       "    </tr>\n",
       "    <tr>\n",
       "      <th>5</th>\n",
       "      <td>6</td>\n",
       "      <td>Antônio Carlos Jobim</td>\n",
       "    </tr>\n",
       "    <tr>\n",
       "      <th>6</th>\n",
       "      <td>7</td>\n",
       "      <td>Apocalyptica</td>\n",
       "    </tr>\n",
       "    <tr>\n",
       "      <th>7</th>\n",
       "      <td>8</td>\n",
       "      <td>Audioslave</td>\n",
       "    </tr>\n",
       "    <tr>\n",
       "      <th>8</th>\n",
       "      <td>9</td>\n",
       "      <td>BackBeat</td>\n",
       "    </tr>\n",
       "    <tr>\n",
       "      <th>9</th>\n",
       "      <td>10</td>\n",
       "      <td>Billy Cobham</td>\n",
       "    </tr>\n",
       "  </tbody>\n",
       "</table>\n",
       "</div>"
      ],
      "text/plain": [
       "   ArtistId                  Name\n",
       "0         1                 AC/DC\n",
       "1         2                Accept\n",
       "2         3             Aerosmith\n",
       "3         4     Alanis Morissette\n",
       "4         5       Alice In Chains\n",
       "5         6  Antônio Carlos Jobim\n",
       "6         7          Apocalyptica\n",
       "7         8            Audioslave\n",
       "8         9              BackBeat\n",
       "9        10          Billy Cobham"
      ]
     },
     "execution_count": 17,
     "metadata": {},
     "output_type": "execute_result"
    }
   ],
   "source": [
    "#   define function to query database as \"query\"\n",
    "def query():\n",
    "    #   define user input SQLite query as \"q\"\n",
    "    q = input()\n",
    "    #   user input \"q\" is run via established database connection and converted to a DataFrame\n",
    "    df = pd.read_sql_query(q, connection)\n",
    "    #   print user input SQLite query\n",
    "    print(q)\n",
    "    #   retun SQLite query output\n",
    "    return df\n",
    "#   will display a text box when \"query()\" is run\n",
    "#   input SQLite query into text box, ex:\n",
    "    #   SELECT * FROM artists LIMIT 10\n",
    "query()"
   ]
  },
  {
   "cell_type": "code",
   "execution_count": 20,
   "metadata": {},
   "outputs": [
    {
     "name": "stdout",
     "output_type": "stream",
     "text": [
      "CONNECTION TERMINATED\n"
     ]
    }
   ],
   "source": [
    "#   define function to close the connection to SQLite database\n",
    "def close(connection):\n",
    "    connection.close()\n",
    "    print(\"CONNECTION TERMINATED\")\n",
    "close(connection)"
   ]
  }
 ],
 "metadata": {
  "kernelspec": {
   "display_name": "Python 3.10.4 64-bit",
   "language": "python",
   "name": "python3"
  },
  "language_info": {
   "codemirror_mode": {
    "name": "ipython",
    "version": 3
   },
   "file_extension": ".py",
   "mimetype": "text/x-python",
   "name": "python",
   "nbconvert_exporter": "python",
   "pygments_lexer": "ipython3",
   "version": "3.10.4"
  },
  "orig_nbformat": 4,
  "vscode": {
   "interpreter": {
    "hash": "18a70e8f74e3bf6492fc9afe1070c6e5f510e66b08460c6519f0153480a1ec9a"
   }
  }
 },
 "nbformat": 4,
 "nbformat_minor": 2
}
